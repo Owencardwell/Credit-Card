{
  "nbformat": 4,
  "nbformat_minor": 0,
  "metadata": {
    "colab": {
      "provenance": []
    },
    "kernelspec": {
      "name": "python3",
      "display_name": "Python 3"
    },
    "language_info": {
      "name": "python"
    }
  },
  "cells": [
    {
      "cell_type": "markdown",
      "source": [
        "Organize your table into teams. Normally for something like this you organize into [red and blue teams](https://en.wikipedia.org/wiki/Red_team) but I guess we should probably do black and gold teams, huh? "
      ],
      "metadata": {
        "id": "_J93T_fKBRBB"
      }
    },
    {
      "cell_type": "code",
      "source": [
        "\n",
        "\n",
        "raise Exception(\"Fail\")"
      ],
      "metadata": {
        "colab": {
          "base_uri": "https://localhost:8080/",
          "height": 169
        },
        "id": "cg4ZTjdPt1Dg",
        "outputId": "beff7830-abd0-4a84-c2a4-cfc4f236210a"
      },
      "execution_count": 1,
      "outputs": [
        {
          "output_type": "error",
          "ename": "Exception",
          "evalue": "ignored",
          "traceback": [
            "\u001b[0;31m---------------------------------------------------------------------------\u001b[0m",
            "\u001b[0;31mException\u001b[0m                                 Traceback (most recent call last)",
            "\u001b[0;32m<ipython-input-1-721a23ecc436>\u001b[0m in \u001b[0;36m<module>\u001b[0;34m\u001b[0m\n\u001b[0;32m----> 1\u001b[0;31m \u001b[0;32mraise\u001b[0m \u001b[0mException\u001b[0m\u001b[0;34m(\u001b[0m\u001b[0;34m\"Fail\"\u001b[0m\u001b[0;34m)\u001b[0m\u001b[0;34m\u001b[0m\u001b[0;34m\u001b[0m\u001b[0m\n\u001b[0m",
            "\u001b[0;31mException\u001b[0m: Fail"
          ]
        }
      ]
    },
    {
      "cell_type": "markdown",
      "source": [
        "### Business logic \n",
        "\n",
        "- You work for a credit card company\n",
        "- You want to avoid fraudulent transactions.\n",
        "- One way to avoid fraudulent transactions is to ensure that a customers name, number and address match the records your database\n",
        "- So when the person goes to make a transaction online, if they give an address or name that does not match the number, you can reject the transaction.\n",
        "- Write a function `is_ok` which returns `True` if the name, number and address from a transaction match the record in your database. And false otherwise."
      ],
      "metadata": {
        "id": "h4QV02pmBp8z"
      }
    },
    {
      "cell_type": "markdown",
      "source": [
        "Start off by finishing the function. Your code should fail the test until you fix it."
      ],
      "metadata": {
        "id": "iQvqG7SgAtgo"
      }
    },
    {
      "cell_type": "code",
      "source": [
        "from typing_extensions import dataclass_transform\n",
        "def match(_database_record: dict, _transaction: dict) -> bool:\n",
        "    if database_record == transaction:\n",
        "      return True\n",
        "    else:\n",
        "      return False\n",
        "    \n",
        "database_record = {\"name\": \"Grisha Brenden\", \"number\": \"12395\", \"address\": \"995 Regent Dr\"}\n",
        "transaction = {\"name\": \"Grisha Brenden\", \"number\": \"12395\", \"address\": \"995 Regent Dr\"}\n",
        "\n",
        "match(_database_record=database_record, _transaction=transaction)\n",
        "\n",
        "A = transaction[\"number\"]\n",
        "B = transaction[\"name\"]\n",
        "C = transaction[\"address\"]\n",
        "D = database_record[\"number\"]\n",
        "E = database_record[\"name\"]\n",
        "F = database_record[\"address\"]\n",
        "Inputs = [A,B,C,D,E,F]\n",
        "for variables in Inputs:\n",
        "      if type(variables) != str: \n",
        "        raise Exception(\"Input not in valid form\")\n",
        "\n",
        "match(_database_record=database_record, _transaction=transaction)\n"
      ],
      "metadata": {
        "id": "8zF-vTn8_pWv",
        "outputId": "f4f4b3ea-0d03-4e3d-b41e-5266718f8c1e",
        "colab": {
          "base_uri": "https://localhost:8080/"
        }
      },
      "execution_count": 41,
      "outputs": [
        {
          "output_type": "execute_result",
          "data": {
            "text/plain": [
              "True"
            ]
          },
          "metadata": {},
          "execution_count": 41
        }
      ]
    },
    {
      "cell_type": "markdown",
      "source": [
        "Now write tests for your own function to check for edge cases. When will the business logic fail?"
      ],
      "metadata": {
        "id": "7MfbUYymAsho"
      }
    },
    {
      "cell_type": "code",
      "source": [
        "if type(transaction[number]) != int: \n",
        "  raise Exception(\"Number not valid\")"
      ],
      "metadata": {
        "id": "_zSCj1hwAsJM",
        "outputId": "fdfb3b03-b69b-4af2-f66b-77b3f10c0138",
        "colab": {
          "base_uri": "https://localhost:8080/",
          "height": 187
        }
      },
      "execution_count": 13,
      "outputs": [
        {
          "output_type": "error",
          "ename": "NameError",
          "evalue": "ignored",
          "traceback": [
            "\u001b[0;31m---------------------------------------------------------------------------\u001b[0m",
            "\u001b[0;31mNameError\u001b[0m                                 Traceback (most recent call last)",
            "\u001b[0;32m<ipython-input-13-f971cabcc676>\u001b[0m in \u001b[0;36m<module>\u001b[0;34m\u001b[0m\n\u001b[0;32m----> 1\u001b[0;31m \u001b[0;32mif\u001b[0m \u001b[0mtype\u001b[0m\u001b[0;34m(\u001b[0m\u001b[0mtransaction\u001b[0m\u001b[0;34m[\u001b[0m\u001b[0mnumber\u001b[0m\u001b[0;34m]\u001b[0m\u001b[0;34m)\u001b[0m \u001b[0;34m!=\u001b[0m \u001b[0mint\u001b[0m\u001b[0;34m:\u001b[0m\u001b[0;34m\u001b[0m\u001b[0;34m\u001b[0m\u001b[0m\n\u001b[0m\u001b[1;32m      2\u001b[0m   \u001b[0;32mraise\u001b[0m \u001b[0mException\u001b[0m\u001b[0;34m(\u001b[0m\u001b[0;34m\"Number not valid\"\u001b[0m\u001b[0;34m)\u001b[0m\u001b[0;34m\u001b[0m\u001b[0;34m\u001b[0m\u001b[0m\n",
            "\u001b[0;31mNameError\u001b[0m: name 'number' is not defined"
          ]
        }
      ]
    },
    {
      "cell_type": "markdown",
      "source": [
        "In a few minutes you will post your code on GitHub and invite the other team to try and find holes in it with their tests. Do you want to do anything to \"harden\" your code? Can you think of things the other team will miss? The team that finds the most issues with the other teams code (across the whole class) will get extra credit. Each issue is equal to one test."
      ],
      "metadata": {
        "id": "4w8mgp5l-8bQ"
      }
    },
    {
      "cell_type": "markdown",
      "source": [
        "Ok now post your code on GitHub. Copy the other teams code into  your notebook. (You can also use GitHub features to do this programmatically, which is better but beyond the scope of the class).  Then run your tests on their code to see if you find issues that they did not think of."
      ],
      "metadata": {
        "id": "TJfiV55ICPQ0"
      }
    },
    {
      "cell_type": "markdown",
      "source": [
        "Count up how many issues you find with the other team's code. An issue is a test that reveals a flaw in the business logic. Basically, if you find a reasonable hole in the other team's logic using a test, that counts as an issue."
      ],
      "metadata": {
        "id": "yW2VFxOICdIx"
      }
    },
    {
      "cell_type": "code",
      "source": [],
      "metadata": {
        "id": "ChzCTUm3DO8G"
      },
      "execution_count": null,
      "outputs": []
    }
  ]
}